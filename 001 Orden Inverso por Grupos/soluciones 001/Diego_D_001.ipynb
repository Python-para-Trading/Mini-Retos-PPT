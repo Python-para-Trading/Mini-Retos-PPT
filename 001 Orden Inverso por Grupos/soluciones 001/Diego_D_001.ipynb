{
  "cells": [
    {
      "cell_type": "code",
      "execution_count": 1,
      "metadata": {
        "id": "FmIFoVJieRoL"
      },
      "outputs": [],
      "source": [
        "import pandas as pd"
      ]
    },
    {
      "cell_type": "markdown",
      "metadata": {
        "id": "WZ3ZVZYZeRoO"
      },
      "source": [
        "# Mini reto 001"
      ]
    },
    {
      "cell_type": "markdown",
      "metadata": {
        "id": "wLbwtp_EeRoQ"
      },
      "source": [
        "### Ordenar las subseries de forma descendente\n",
        "\n",
        "La finalidad es ordenar de forma descendente las subseries 1..n que hay en la serie.\n",
        "\n",
        "Output solicitado:\n",
        "\n",
        "[6,5,4,3,2,1,4,3,2,1,5,4,3,2,1,2,1,9,8,7,6,5,4,3,2,1]"
      ]
    },
    {
      "cell_type": "code",
      "execution_count": 2,
      "metadata": {
        "colab": {
          "base_uri": "https://localhost:8080/"
        },
        "id": "CPVMQocaeRoS",
        "outputId": "b8ea50c3-afd0-43e5-fb65-2781c6d547fc"
      },
      "outputs": [
        {
          "output_type": "execute_result",
          "data": {
            "text/plain": [
              "0     1\n",
              "1     2\n",
              "2     3\n",
              "3     4\n",
              "4     5\n",
              "5     6\n",
              "6     1\n",
              "7     2\n",
              "8     3\n",
              "9     4\n",
              "10    1\n",
              "11    2\n",
              "12    3\n",
              "13    4\n",
              "14    5\n",
              "15    1\n",
              "16    2\n",
              "17    1\n",
              "18    2\n",
              "19    3\n",
              "20    4\n",
              "21    5\n",
              "22    6\n",
              "23    7\n",
              "24    8\n",
              "25    9\n",
              "dtype: int64"
            ]
          },
          "metadata": {},
          "execution_count": 2
        }
      ],
      "source": [
        "serie = pd.Series([1,2,3,4,5,6,1,2,3,4,1,2,3,4,5,1,2,1,2,3,4,5,6,7,8,9])\n",
        "serie"
      ]
    },
    {
      "cell_type": "markdown",
      "source": [
        "### Solucion"
      ],
      "metadata": {
        "id": "H7623BT2ecXk"
      }
    },
    {
      "cell_type": "code",
      "execution_count": 3,
      "metadata": {
        "colab": {
          "base_uri": "https://localhost:8080/"
        },
        "id": "anJMUY69eRoW",
        "outputId": "f960aa89-b7d5-4bb5-df9d-bdbb6e679647"
      },
      "outputs": [
        {
          "output_type": "execute_result",
          "data": {
            "text/plain": [
              "0     6\n",
              "1     5\n",
              "2     4\n",
              "3     3\n",
              "4     2\n",
              "5     1\n",
              "6     4\n",
              "7     3\n",
              "8     2\n",
              "9     1\n",
              "10    5\n",
              "11    4\n",
              "12    3\n",
              "13    2\n",
              "14    1\n",
              "15    2\n",
              "16    1\n",
              "17    9\n",
              "18    8\n",
              "19    7\n",
              "20    6\n",
              "21    5\n",
              "22    4\n",
              "23    3\n",
              "24    2\n",
              "25    1\n",
              "dtype: int64"
            ]
          },
          "metadata": {},
          "execution_count": 3
        }
      ],
      "source": [
        "serie.groupby((serie != (serie.shift() + 1)).cumsum()).nlargest(9).reset_index(drop=True)"
      ]
    },
    {
      "cell_type": "markdown",
      "source": [
        "### Explicacion"
      ],
      "metadata": {
        "id": "j5sXLoFiej0t"
      }
    },
    {
      "cell_type": "markdown",
      "source": [
        "Se buscan los puntos de corte donde van a cambiar los grupos"
      ],
      "metadata": {
        "id": "6K2DeY9Repxz"
      }
    },
    {
      "cell_type": "code",
      "source": [
        "(serie != (serie.shift() + 1))"
      ],
      "metadata": {
        "colab": {
          "base_uri": "https://localhost:8080/"
        },
        "id": "9kipHCyMeUve",
        "outputId": "6645f552-14f1-4133-99cd-a1bb463d5481"
      },
      "execution_count": 4,
      "outputs": [
        {
          "output_type": "execute_result",
          "data": {
            "text/plain": [
              "0      True\n",
              "1     False\n",
              "2     False\n",
              "3     False\n",
              "4     False\n",
              "5     False\n",
              "6      True\n",
              "7     False\n",
              "8     False\n",
              "9     False\n",
              "10     True\n",
              "11    False\n",
              "12    False\n",
              "13    False\n",
              "14    False\n",
              "15     True\n",
              "16    False\n",
              "17     True\n",
              "18    False\n",
              "19    False\n",
              "20    False\n",
              "21    False\n",
              "22    False\n",
              "23    False\n",
              "24    False\n",
              "25    False\n",
              "dtype: bool"
            ]
          },
          "metadata": {},
          "execution_count": 4
        }
      ]
    },
    {
      "cell_type": "markdown",
      "source": [
        "Con el cumsum() se hace la suma acumulada de lo anterior (False lo toma como 0 y True como 1) lo que genera como se van a distribuir los grupos"
      ],
      "metadata": {
        "id": "T3wZVi-Fe71b"
      }
    },
    {
      "cell_type": "code",
      "source": [
        "(serie != (serie.shift() + 1)).cumsum()"
      ],
      "metadata": {
        "colab": {
          "base_uri": "https://localhost:8080/"
        },
        "id": "WtaNluwQe0Qm",
        "outputId": "41482fa6-c9cc-4d9d-9aa2-e6da0a3e4c53"
      },
      "execution_count": 5,
      "outputs": [
        {
          "output_type": "execute_result",
          "data": {
            "text/plain": [
              "0     1\n",
              "1     1\n",
              "2     1\n",
              "3     1\n",
              "4     1\n",
              "5     1\n",
              "6     2\n",
              "7     2\n",
              "8     2\n",
              "9     2\n",
              "10    3\n",
              "11    3\n",
              "12    3\n",
              "13    3\n",
              "14    3\n",
              "15    4\n",
              "16    4\n",
              "17    5\n",
              "18    5\n",
              "19    5\n",
              "20    5\n",
              "21    5\n",
              "22    5\n",
              "23    5\n",
              "24    5\n",
              "25    5\n",
              "dtype: int64"
            ]
          },
          "metadata": {},
          "execution_count": 5
        }
      ]
    },
    {
      "cell_type": "markdown",
      "source": [
        "Se generan los grupos"
      ],
      "metadata": {
        "id": "bUO8uCzOe-Fj"
      }
    },
    {
      "cell_type": "code",
      "source": [
        "groups = serie.groupby((serie != (serie.shift() + 1)).cumsum())\n",
        "for group in groups:\n",
        "    print(group)"
      ],
      "metadata": {
        "colab": {
          "base_uri": "https://localhost:8080/"
        },
        "id": "9ao5T25Yfd_9",
        "outputId": "20cd3158-2a12-40f7-fb78-87fb4b66a58a"
      },
      "execution_count": 6,
      "outputs": [
        {
          "output_type": "stream",
          "name": "stdout",
          "text": [
            "(1, 0    1\n",
            "1    2\n",
            "2    3\n",
            "3    4\n",
            "4    5\n",
            "5    6\n",
            "dtype: int64)\n",
            "(2, 6    1\n",
            "7    2\n",
            "8    3\n",
            "9    4\n",
            "dtype: int64)\n",
            "(3, 10    1\n",
            "11    2\n",
            "12    3\n",
            "13    4\n",
            "14    5\n",
            "dtype: int64)\n",
            "(4, 15    1\n",
            "16    2\n",
            "dtype: int64)\n",
            "(5, 17    1\n",
            "18    2\n",
            "19    3\n",
            "20    4\n",
            "21    5\n",
            "22    6\n",
            "23    7\n",
            "24    8\n",
            "25    9\n",
            "dtype: int64)\n"
          ]
        }
      ]
    },
    {
      "cell_type": "markdown",
      "source": [
        "Se realiza el ordenamiento inverso usando nlargest. \n",
        "\n",
        "El 9 es el parametro de la cantidad de elementos a retornar. En este caso aplica Seria el top 9 de lo elementos mas grandes."
      ],
      "metadata": {
        "id": "Q6gWkPH_fdml"
      }
    },
    {
      "cell_type": "code",
      "source": [
        "serie.groupby((serie != (serie.shift() + 1)).cumsum()).nlargest(9)"
      ],
      "metadata": {
        "colab": {
          "base_uri": "https://localhost:8080/"
        },
        "id": "LPqq2Ec4frFT",
        "outputId": "908b2cf8-5665-4f9a-d15a-b1529eb79a3b"
      },
      "execution_count": 7,
      "outputs": [
        {
          "output_type": "execute_result",
          "data": {
            "text/plain": [
              "1  5     6\n",
              "   4     5\n",
              "   3     4\n",
              "   2     3\n",
              "   1     2\n",
              "   0     1\n",
              "2  9     4\n",
              "   8     3\n",
              "   7     2\n",
              "   6     1\n",
              "3  14    5\n",
              "   13    4\n",
              "   12    3\n",
              "   11    2\n",
              "   10    1\n",
              "4  16    2\n",
              "   15    1\n",
              "5  25    9\n",
              "   24    8\n",
              "   23    7\n",
              "   22    6\n",
              "   21    5\n",
              "   20    4\n",
              "   19    3\n",
              "   18    2\n",
              "   17    1\n",
              "dtype: int64"
            ]
          },
          "metadata": {},
          "execution_count": 7
        }
      ]
    },
    {
      "cell_type": "markdown",
      "source": [
        "Se limpian los indices para que quede el array ordenado."
      ],
      "metadata": {
        "id": "1lKohzfvfedU"
      }
    },
    {
      "cell_type": "code",
      "source": [
        "serie.groupby((serie != (serie.shift() + 1)).cumsum()).nlargest(9).reset_index(drop=True)"
      ],
      "metadata": {
        "colab": {
          "base_uri": "https://localhost:8080/"
        },
        "id": "BB7SwcfGfrla",
        "outputId": "2ed6d2d9-e2c5-4d7f-e0b3-df49e7968aa2"
      },
      "execution_count": 8,
      "outputs": [
        {
          "output_type": "execute_result",
          "data": {
            "text/plain": [
              "0     6\n",
              "1     5\n",
              "2     4\n",
              "3     3\n",
              "4     2\n",
              "5     1\n",
              "6     4\n",
              "7     3\n",
              "8     2\n",
              "9     1\n",
              "10    5\n",
              "11    4\n",
              "12    3\n",
              "13    2\n",
              "14    1\n",
              "15    2\n",
              "16    1\n",
              "17    9\n",
              "18    8\n",
              "19    7\n",
              "20    6\n",
              "21    5\n",
              "22    4\n",
              "23    3\n",
              "24    2\n",
              "25    1\n",
              "dtype: int64"
            ]
          },
          "metadata": {},
          "execution_count": 8
        }
      ]
    },
    {
      "cell_type": "code",
      "source": [
        ""
      ],
      "metadata": {
        "id": "i_n2Uyivgho7"
      },
      "execution_count": 8,
      "outputs": []
    }
  ],
  "metadata": {
    "kernelspec": {
      "display_name": "Python 3",
      "language": "python",
      "name": "python3"
    },
    "language_info": {
      "codemirror_mode": {
        "name": "ipython",
        "version": 3
      },
      "file_extension": ".py",
      "mimetype": "text/x-python",
      "name": "python",
      "nbconvert_exporter": "python",
      "pygments_lexer": "ipython3",
      "version": "3.7.7"
    },
    "latex_envs": {
      "LaTeX_envs_menu_present": true,
      "autoclose": false,
      "autocomplete": true,
      "bibliofile": "biblio.bib",
      "cite_by": "apalike",
      "current_citInitial": 1,
      "eqLabelWithNumbers": true,
      "eqNumInitial": 1,
      "hotkeys": {
        "equation": "Ctrl-E",
        "itemize": "Ctrl-I"
      },
      "labels_anchors": false,
      "latex_user_defs": false,
      "report_style_numbering": false,
      "user_envs_cfg": false
    },
    "varInspector": {
      "cols": {
        "lenName": 16,
        "lenType": 16,
        "lenVar": 40
      },
      "kernels_config": {
        "python": {
          "delete_cmd_postfix": "",
          "delete_cmd_prefix": "del ",
          "library": "var_list.py",
          "varRefreshCmd": "print(var_dic_list())"
        },
        "r": {
          "delete_cmd_postfix": ") ",
          "delete_cmd_prefix": "rm(",
          "library": "var_list.r",
          "varRefreshCmd": "cat(var_dic_list()) "
        }
      },
      "types_to_exclude": [
        "module",
        "function",
        "builtin_function_or_method",
        "instance",
        "_Feature"
      ],
      "window_display": false
    },
    "colab": {
      "name": "PPT Mini Retos 001 (orden inverso por grupos).ipynb",
      "provenance": [],
      "collapsed_sections": []
    }
  },
  "nbformat": 4,
  "nbformat_minor": 0
}