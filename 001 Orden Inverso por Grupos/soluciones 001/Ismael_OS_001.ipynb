{
 "cells": [
  {
   "cell_type": "code",
   "execution_count": 1,
   "metadata": {},
   "outputs": [],
   "source": [
    "import pandas as pd\n",
    "import numpy as np\n",
    "import itertools"
   ]
  },
  {
   "cell_type": "code",
   "execution_count": 2,
   "metadata": {},
   "outputs": [
    {
     "data": {
      "text/plain": [
       "0     1\n",
       "1     2\n",
       "2     3\n",
       "3     4\n",
       "4     5\n",
       "5     6\n",
       "6     1\n",
       "7     2\n",
       "8     3\n",
       "9     4\n",
       "10    1\n",
       "11    2\n",
       "12    3\n",
       "13    4\n",
       "14    5\n",
       "15    1\n",
       "16    2\n",
       "17    1\n",
       "18    2\n",
       "19    3\n",
       "20    4\n",
       "21    5\n",
       "22    6\n",
       "23    7\n",
       "24    8\n",
       "25    9\n",
       "dtype: int64"
      ]
     },
     "execution_count": 2,
     "metadata": {},
     "output_type": "execute_result"
    }
   ],
   "source": [
    "serie = pd.Series([1,2,3,4,5,6,1,2,3,4,1,2,3,4,5,1,2,1,2,3,4,5,6,7,8,9])\n",
    "serie"
   ]
  },
  {
   "cell_type": "markdown",
   "metadata": {},
   "source": [
    "Nos dan una serie que contiene subseries ordenadas y completas desde 1 hasta n, con n variable.\n",
    "Nuestro primer objetivo es averiguar cuantas subseries tenemos y de qué longitud.\n",
    "Una manera de saber cuántas subseries tenemos es contar la cantidad de 1's que tenemos en la serie original (dado que partimos de la hipótesis que las subseries son completas, luego deben contener el 1 necesariamente).\n",
    "Una manera de contar cuantos 1s tiene mi serie es con una comprehension list en la que vamos a guardar los índices de los elementos de la serie que valen 1. A esta lista de índices la vamos a llamar primeros_indices."
   ]
  },
  {
   "cell_type": "code",
   "execution_count": 3,
   "metadata": {},
   "outputs": [],
   "source": [
    "primeros_indices = [indice for indice, valor in enumerate(serie) if valor==1]"
   ]
  },
  {
   "cell_type": "markdown",
   "metadata": {},
   "source": [
    "Para conocer el tamaño de las subseries restamos los índices en los que se encuentran los 1s. Esta manera de calcular el tamaño requiere que yo tenga un valor de índice en el valor siguiente al último de cada subserie (por el empleo de la función np.diff()). Esto implica que debo añadir un elemento a la lista de primros índices."
   ]
  },
  {
   "cell_type": "code",
   "execution_count": 4,
   "metadata": {},
   "outputs": [
    {
     "data": {
      "text/plain": [
       "[0, 6, 10, 15, 17, 26]"
      ]
     },
     "execution_count": 4,
     "metadata": {},
     "output_type": "execute_result"
    }
   ],
   "source": [
    "primeros_indices.append(len(serie))\n",
    "primeros_indices"
   ]
  },
  {
   "cell_type": "markdown",
   "metadata": {},
   "source": [
    "Como ya tenemos los índices donde comienzan las subseries, podemos separarlas de la serie original, componiendo una lista de series, con tantos elementos como subseries completas tengamos. A esta lista de subseries la vamos a llamar lista."
   ]
  },
  {
   "cell_type": "code",
   "execution_count": 5,
   "metadata": {},
   "outputs": [
    {
     "data": {
      "text/plain": [
       "[0    1\n",
       " 1    2\n",
       " 2    3\n",
       " 3    4\n",
       " 4    5\n",
       " 5    6\n",
       " dtype: int64,\n",
       " 6    1\n",
       " 7    2\n",
       " 8    3\n",
       " 9    4\n",
       " dtype: int64,\n",
       " 10    1\n",
       " 11    2\n",
       " 12    3\n",
       " 13    4\n",
       " 14    5\n",
       " dtype: int64,\n",
       " 15    1\n",
       " 16    2\n",
       " dtype: int64,\n",
       " 17    1\n",
       " 18    2\n",
       " 19    3\n",
       " 20    4\n",
       " 21    5\n",
       " 22    6\n",
       " 23    7\n",
       " 24    8\n",
       " 25    9\n",
       " dtype: int64]"
      ]
     },
     "execution_count": 5,
     "metadata": {},
     "output_type": "execute_result"
    }
   ],
   "source": [
    "lista = [serie[val:primeros_indices[ind+1]] for ind,val in enumerate(primeros_indices[:-1])]\n",
    "lista"
   ]
  },
  {
   "cell_type": "markdown",
   "metadata": {},
   "source": [
    "Ahora queremos, primero, revertir el orden de cada subserie y segundo, convertir esas subseries en listas de valores. Esto lo hacemos con una list comprehension, que nos arroja una lista de listas."
   ]
  },
  {
   "cell_type": "code",
   "execution_count": 6,
   "metadata": {},
   "outputs": [
    {
     "data": {
      "text/plain": [
       "[[6, 5, 4, 3, 2, 1],\n",
       " [4, 3, 2, 1],\n",
       " [5, 4, 3, 2, 1],\n",
       " [2, 1],\n",
       " [9, 8, 7, 6, 5, 4, 3, 2, 1]]"
      ]
     },
     "execution_count": 6,
     "metadata": {},
     "output_type": "execute_result"
    }
   ],
   "source": [
    "lista_listas = [list(lista[a][::-1].values) for a in range(len(lista))]\n",
    "lista_listas"
   ]
  },
  {
   "cell_type": "markdown",
   "metadata": {},
   "source": [
    "El último paso es hacer una reducción dimensional de la lista de listas, para obtener una única lista. Es algo así como el método flatten() para numpy arrays de varias dimensiones. Para conseguir esto en una lista, una de las opciones de usar la librería itertools, la función chain."
   ]
  },
  {
   "cell_type": "code",
   "execution_count": 7,
   "metadata": {},
   "outputs": [
    {
     "data": {
      "text/plain": [
       "[6, 5, 4, 3, 2, 1, 4, 3, 2, 1, 5, 4, 3, 2, 1, 2, 1, 9, 8, 7, 6, 5, 4, 3, 2, 1]"
      ]
     },
     "execution_count": 7,
     "metadata": {},
     "output_type": "execute_result"
    }
   ],
   "source": [
    "list(itertools.chain.from_iterable(lista_listas))"
   ]
  },
  {
   "cell_type": "markdown",
   "metadata": {},
   "source": [
    "Si quisiera aunar la mayor cantidad posible de pasos para tener un formato más compacto, a costa de sacrificar su lectura, podríamos llegar a obtener algo así."
   ]
  },
  {
   "cell_type": "code",
   "execution_count": 8,
   "metadata": {},
   "outputs": [
    {
     "data": {
      "text/plain": [
       "[6, 5, 4, 3, 2, 1, 4, 3, 2, 1, 5, 4, 3, 2, 1, 2, 1, 9, 8, 7, 6, 5, 4, 3, 2, 1]"
      ]
     },
     "execution_count": 8,
     "metadata": {},
     "output_type": "execute_result"
    }
   ],
   "source": [
    "list(itertools.chain.from_iterable([list([serie[val:primeros_indices[ind+1]] for ind,val in enumerate(primeros_indices[:-1])][a][::-1].values) for a in range(len([serie[val:primeros_indices[ind+1]] for ind,val in enumerate(primeros_indices[:-1])]))]))"
   ]
  },
  {
   "cell_type": "markdown",
   "metadata": {},
   "source": [
    "Lamentablemente no se puede hacer todo en una sola línea por culpa del comando append para listas, que no devuelve nada, sino que modifica la lista sobre la que se aplica. Eso me obliga a definir la lista de índices, luego añadirle un valor con append y luego todo lo demás en una línea. ;) Con lo que el código completo quedaría (con 3 líneas) como:"
   ]
  },
  {
   "cell_type": "code",
   "execution_count": 9,
   "metadata": {},
   "outputs": [
    {
     "data": {
      "text/plain": [
       "[6, 5, 4, 3, 2, 1, 4, 3, 2, 1, 5, 4, 3, 2, 1, 2, 1, 9, 8, 7, 6, 5, 4, 3, 2, 1]"
      ]
     },
     "execution_count": 9,
     "metadata": {},
     "output_type": "execute_result"
    }
   ],
   "source": [
    "primeros_indices = [indice for indice, valor in enumerate(serie) if valor==1]\n",
    "primeros_indices.append(len(serie))\n",
    "(list(itertools.chain.from_iterable(\n",
    "    [list([serie[val:primeros_indices[ind+1]] for ind,val in enumerate(primeros_indices[:-1])][a][::-1].values) \n",
    "     for a in range(len([serie[val:primeros_indices[ind+1]] for ind,val in enumerate(primeros_indices[:-1])]))])))"
   ]
  }
 ],
 "metadata": {
  "kernelspec": {
   "display_name": "Python 3",
   "language": "python",
   "name": "python3"
  },
  "language_info": {
   "codemirror_mode": {
    "name": "ipython",
    "version": 3
   },
   "file_extension": ".py",
   "mimetype": "text/x-python",
   "name": "python",
   "nbconvert_exporter": "python",
   "pygments_lexer": "ipython3",
   "version": "3.8.3"
  }
 },
 "nbformat": 4,
 "nbformat_minor": 4
}
